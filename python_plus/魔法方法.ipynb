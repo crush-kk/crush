{
 "cells": [
  {
   "cell_type": "code",
   "execution_count": 1,
   "metadata": {},
   "outputs": [
    {
     "name": "stdout",
     "output_type": "stream",
     "text": [
      "1 + 2 =3\n",
      "'a' + 'b' ='ab'\n"
     ]
    }
   ],
   "source": [
    "print(f\"{1 + 2 =}\")\n",
    "print(f\"{'a' + 'b' =}\")"
   ]
  },
  {
   "cell_type": "code",
   "execution_count": 3,
   "metadata": {},
   "outputs": [
    {
     "name": "stdout",
     "output_type": "stream",
     "text": [
      "3\n",
      "ab\n"
     ]
    }
   ],
   "source": [
    "#__add__\n",
    "print((x:=1).__add__(2))\n",
    "print((x:='a').__add__('b'))\n",
    "      "
   ]
  },
  {
   "cell_type": "code",
   "execution_count": 4,
   "metadata": {},
   "outputs": [
    {
     "name": "stdout",
     "output_type": "stream",
     "text": [
      "1\n",
      "3\n",
      "5\n"
     ]
    }
   ],
   "source": [
    "lst = [1, 3, 5]\n",
    "for i in lst:\n",
    "    print(i)\n"
   ]
  },
  {
   "cell_type": "code",
   "execution_count": 6,
   "metadata": {},
   "outputs": [
    {
     "name": "stdout",
     "output_type": "stream",
     "text": [
      "node1\n",
      "node2\n",
      "node3\n"
     ]
    }
   ],
   "source": [
    "#iterable是一个可迭代对象，相当于container，没有状态 要有__iter__方法\n",
    "#iterator是一个迭代器，有状态 要有__iter__和__next__方法\n",
    "class NodeIter:\n",
    "    def __init__(self, node):\n",
    "        self.curr_code = node\n",
    "    def __next__(self):\n",
    "        if self.curr_code is None:\n",
    "            raise StopIteration\n",
    "        node, self.curr_code = self.curr_code, self.curr_code.next\n",
    "        return node\n",
    "class Node:\n",
    "    def __init__(self, name):\n",
    "        self.name = name\n",
    "        self.next = None\n",
    "    def __iter__(self):\n",
    "        return NodeIter(self)\n",
    "node1 = Node('node1')\n",
    "node2 = Node('node2')\n",
    "node3 = Node('node3')\n",
    "node1.next = node2\n",
    "node2.next = node3\n",
    "for node in node1:\n",
    "    print(node.name)"
   ]
  },
  {
   "cell_type": "code",
   "execution_count": 7,
   "metadata": {},
   "outputs": [
    {
     "name": "stdout",
     "output_type": "stream",
     "text": [
      "['1', '2']\n",
      "<map object at 0x0000015FB7D6B490>\n"
     ]
    }
   ],
   "source": [
    "a = ['1' , '2']\n",
    "print(a)\n",
    "a = map(int, a)\n",
    "print(a)"
   ]
  }
 ],
 "metadata": {
  "kernelspec": {
   "display_name": "Python 3",
   "language": "python",
   "name": "python3"
  },
  "language_info": {
   "codemirror_mode": {
    "name": "ipython",
    "version": 3
   },
   "file_extension": ".py",
   "mimetype": "text/x-python",
   "name": "python",
   "nbconvert_exporter": "python",
   "pygments_lexer": "ipython3",
   "version": "3.13.0"
  }
 },
 "nbformat": 4,
 "nbformat_minor": 2
}
